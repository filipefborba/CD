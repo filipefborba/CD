{
 "cells": [
  {
   "cell_type": "code",
   "execution_count": 20,
   "metadata": {
    "collapsed": true
   },
   "outputs": [],
   "source": [
    "%matplotlib inline\n",
    "\n",
    "import os\n",
    "import matplotlib.pyplot as plt\n",
    "import pandas as pd\n",
    "import numpy as np\n",
    "from scipy import stats\n",
    "import math"
   ]
  },
  {
   "cell_type": "code",
   "execution_count": 26,
   "metadata": {
    "collapsed": false
   },
   "outputs": [
    {
     "name": "stdout",
     "output_type": "stream",
     "text": [
      "Média da Lista (μ): 1.0283\n",
      "Desvio Padrão da Lista (σ): 0.0128300428682\n"
     ]
    }
   ],
   "source": [
    "resistores = [1.006, 1.017, 1.021, 1.021, 1.023, 1.028, 1.033, 1.041, 1.042, 1.051]\n",
    "mu = np.mean(resistores)\n",
    "dp = np.std(resistores)\n",
    "print(\"Média da Lista (μ):\", mu)\n",
    "print(\"Desvio Padrão da Lista (σ):\", dp)"
   ]
  },
  {
   "cell_type": "code",
   "execution_count": 35,
   "metadata": {
    "collapsed": false
   },
   "outputs": [
    {
     "name": "stdout",
     "output_type": "stream",
     "text": [
      "DP Teórico 0.025510204081632678\n"
     ]
    }
   ],
   "source": [
    "sigma = (1.05-1)/1.96\n",
    "print(\"DP Teórico\", sigma)"
   ]
  },
  {
   "cell_type": "code",
   "execution_count": 36,
   "metadata": {
    "collapsed": false
   },
   "outputs": [
    {
     "name": "stdout",
     "output_type": "stream",
     "text": [
      "DP Amostra 0.008067034847368322\n"
     ]
    }
   ],
   "source": [
    "sigmaamostra = sigma/math.sqrt(10)\n",
    "print(\"DP Amostra\", sigmaamostra)"
   ]
  },
  {
   "cell_type": "code",
   "execution_count": 46,
   "metadata": {
    "collapsed": false
   },
   "outputs": [],
   "source": [
    "normal = stats.norm.cdf(mu, loc=1, scale=sigmaamostra)"
   ]
  },
  {
   "cell_type": "code",
   "execution_count": 47,
   "metadata": {
    "collapsed": false
   },
   "outputs": [
    {
     "name": "stdout",
     "output_type": "stream",
     "text": [
      "0.999774344002\n"
     ]
    }
   ],
   "source": [
    "print(normal)"
   ]
  }
 ],
 "metadata": {
  "kernelspec": {
   "display_name": "Python 3",
   "language": "python",
   "name": "python3"
  },
  "language_info": {
   "codemirror_mode": {
    "name": "ipython",
    "version": 3
   },
   "file_extension": ".py",
   "mimetype": "text/x-python",
   "name": "python",
   "nbconvert_exporter": "python",
   "pygments_lexer": "ipython3",
   "version": "3.5.1"
  }
 },
 "nbformat": 4,
 "nbformat_minor": 0
}
