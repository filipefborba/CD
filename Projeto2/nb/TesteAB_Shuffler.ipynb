{
 "cells": [
  {
   "cell_type": "code",
   "execution_count": 37,
   "metadata": {
    "collapsed": true
   },
   "outputs": [],
   "source": [
    "import random"
   ]
  },
  {
   "cell_type": "code",
   "execution_count": 38,
   "metadata": {
    "collapsed": true
   },
   "outputs": [],
   "source": [
    "lista = \"\"\"cat1\n",
    "cat2\n",
    "cat3\n",
    "cat4\n",
    "cat5\n",
    "cat6\n",
    "cat7\n",
    "dog1\n",
    "dog2\n",
    "dog3\n",
    "dog4\n",
    "dog5\n",
    "dog6\n",
    "dog7\n",
    "dog8\"\"\""
   ]
  },
  {
   "cell_type": "code",
   "execution_count": 39,
   "metadata": {
    "collapsed": false
   },
   "outputs": [],
   "source": [
    "termos = lista.split()\n",
    "\n",
    "shuffled = random.shuffle(termos)"
   ]
  },
  {
   "cell_type": "code",
   "execution_count": 40,
   "metadata": {
    "collapsed": false
   },
   "outputs": [
    {
     "name": "stdout",
     "output_type": "stream",
     "text": [
      "['dog1', 'cat7', 'cat6', 'dog6', 'dog3', 'dog5', 'dog4', 'cat1', 'cat4', 'cat2', 'dog7', 'cat5', 'dog8', 'dog2', 'cat3']\n"
     ]
    }
   ],
   "source": [
    "print(termos)"
   ]
  },
  {
   "cell_type": "code",
   "execution_count": 41,
   "metadata": {
    "collapsed": true
   },
   "outputs": [],
   "source": [
    "line = \"\"\"<tr><td><input type=\"checkbox\" id=\"{0}\"> </td><td><img src=\"img/{0}.jpeg\" width=80 height=80></td></tr>\"\"\""
   ]
  },
  {
   "cell_type": "code",
   "execution_count": 42,
   "metadata": {
    "collapsed": false,
    "scrolled": true
   },
   "outputs": [
    {
     "name": "stdout",
     "output_type": "stream",
     "text": [
      "<tr><td><input type=\"checkbox\" id=\"dog1\"> </td><td><img src=\"img/dog1.jpeg\" width=80 height=80></td></tr>\n",
      "<tr><td><input type=\"checkbox\" id=\"cat7\"> </td><td><img src=\"img/cat7.jpeg\" width=80 height=80></td></tr>\n",
      "<tr><td><input type=\"checkbox\" id=\"cat6\"> </td><td><img src=\"img/cat6.jpeg\" width=80 height=80></td></tr>\n",
      "<tr><td><input type=\"checkbox\" id=\"dog6\"> </td><td><img src=\"img/dog6.jpeg\" width=80 height=80></td></tr>\n",
      "<tr><td><input type=\"checkbox\" id=\"dog3\"> </td><td><img src=\"img/dog3.jpeg\" width=80 height=80></td></tr>\n",
      "<tr><td><input type=\"checkbox\" id=\"dog5\"> </td><td><img src=\"img/dog5.jpeg\" width=80 height=80></td></tr>\n",
      "<tr><td><input type=\"checkbox\" id=\"dog4\"> </td><td><img src=\"img/dog4.jpeg\" width=80 height=80></td></tr>\n",
      "<tr><td><input type=\"checkbox\" id=\"cat1\"> </td><td><img src=\"img/cat1.jpeg\" width=80 height=80></td></tr>\n",
      "<tr><td><input type=\"checkbox\" id=\"cat4\"> </td><td><img src=\"img/cat4.jpeg\" width=80 height=80></td></tr>\n",
      "<tr><td><input type=\"checkbox\" id=\"cat2\"> </td><td><img src=\"img/cat2.jpeg\" width=80 height=80></td></tr>\n",
      "<tr><td><input type=\"checkbox\" id=\"dog7\"> </td><td><img src=\"img/dog7.jpeg\" width=80 height=80></td></tr>\n",
      "<tr><td><input type=\"checkbox\" id=\"cat5\"> </td><td><img src=\"img/cat5.jpeg\" width=80 height=80></td></tr>\n",
      "<tr><td><input type=\"checkbox\" id=\"dog8\"> </td><td><img src=\"img/dog8.jpeg\" width=80 height=80></td></tr>\n",
      "<tr><td><input type=\"checkbox\" id=\"dog2\"> </td><td><img src=\"img/dog2.jpeg\" width=80 height=80></td></tr>\n",
      "<tr><td><input type=\"checkbox\" id=\"cat3\"> </td><td><img src=\"img/cat3.jpeg\" width=80 height=80></td></tr>\n"
     ]
    }
   ],
   "source": [
    "for i in termos:\n",
    "    print(line.format(i))"
   ]
  },
  {
   "cell_type": "code",
   "execution_count": 43,
   "metadata": {
    "collapsed": true
   },
   "outputs": [],
   "source": [
    "em_ordem = lista.split()"
   ]
  },
  {
   "cell_type": "code",
   "execution_count": 44,
   "metadata": {
    "collapsed": false
   },
   "outputs": [
    {
     "data": {
      "text/plain": [
       "['cat1',\n",
       " 'cat2',\n",
       " 'cat3',\n",
       " 'cat4',\n",
       " 'cat5',\n",
       " 'cat6',\n",
       " 'cat7',\n",
       " 'dog1',\n",
       " 'dog2',\n",
       " 'dog3',\n",
       " 'dog4',\n",
       " 'dog5',\n",
       " 'dog6',\n",
       " 'dog7',\n",
       " 'dog8']"
      ]
     },
     "execution_count": 44,
     "metadata": {},
     "output_type": "execute_result"
    }
   ],
   "source": [
    "em_ordem"
   ]
  },
  {
   "cell_type": "code",
   "execution_count": 45,
   "metadata": {
    "collapsed": false
   },
   "outputs": [
    {
     "name": "stdout",
     "output_type": "stream",
     "text": [
      "<tr><td><input type=\"checkbox\" id=\"cat1\"> </td><td><img src=\"img/cat1.jpeg\" width=80 height=80></td></tr>\n",
      "<tr><td><input type=\"checkbox\" id=\"cat2\"> </td><td><img src=\"img/cat2.jpeg\" width=80 height=80></td></tr>\n",
      "<tr><td><input type=\"checkbox\" id=\"cat3\"> </td><td><img src=\"img/cat3.jpeg\" width=80 height=80></td></tr>\n",
      "<tr><td><input type=\"checkbox\" id=\"cat4\"> </td><td><img src=\"img/cat4.jpeg\" width=80 height=80></td></tr>\n",
      "<tr><td><input type=\"checkbox\" id=\"cat5\"> </td><td><img src=\"img/cat5.jpeg\" width=80 height=80></td></tr>\n",
      "<tr><td><input type=\"checkbox\" id=\"cat6\"> </td><td><img src=\"img/cat6.jpeg\" width=80 height=80></td></tr>\n",
      "<tr><td><input type=\"checkbox\" id=\"cat7\"> </td><td><img src=\"img/cat7.jpeg\" width=80 height=80></td></tr>\n",
      "<tr><td><input type=\"checkbox\" id=\"dog1\"> </td><td><img src=\"img/dog1.jpeg\" width=80 height=80></td></tr>\n",
      "<tr><td><input type=\"checkbox\" id=\"dog2\"> </td><td><img src=\"img/dog2.jpeg\" width=80 height=80></td></tr>\n",
      "<tr><td><input type=\"checkbox\" id=\"dog3\"> </td><td><img src=\"img/dog3.jpeg\" width=80 height=80></td></tr>\n",
      "<tr><td><input type=\"checkbox\" id=\"dog4\"> </td><td><img src=\"img/dog4.jpeg\" width=80 height=80></td></tr>\n",
      "<tr><td><input type=\"checkbox\" id=\"dog5\"> </td><td><img src=\"img/dog5.jpeg\" width=80 height=80></td></tr>\n",
      "<tr><td><input type=\"checkbox\" id=\"dog6\"> </td><td><img src=\"img/dog6.jpeg\" width=80 height=80></td></tr>\n",
      "<tr><td><input type=\"checkbox\" id=\"dog7\"> </td><td><img src=\"img/dog7.jpeg\" width=80 height=80></td></tr>\n",
      "<tr><td><input type=\"checkbox\" id=\"dog8\"> </td><td><img src=\"img/dog8.jpeg\" width=80 height=80></td></tr>\n"
     ]
    }
   ],
   "source": [
    "for i in em_ordem:\n",
    "    print(line.format(i))"
   ]
  },
  {
   "cell_type": "code",
   "execution_count": null,
   "metadata": {
    "collapsed": true
   },
   "outputs": [],
   "source": []
  }
 ],
 "metadata": {
  "kernelspec": {
   "display_name": "Python 3",
   "language": "python",
   "name": "python3"
  },
  "language_info": {
   "codemirror_mode": {
    "name": "ipython",
    "version": 3
   },
   "file_extension": ".py",
   "mimetype": "text/x-python",
   "name": "python",
   "nbconvert_exporter": "python",
   "pygments_lexer": "ipython3",
   "version": "3.4.5"
  }
 },
 "nbformat": 4,
 "nbformat_minor": 0
}
