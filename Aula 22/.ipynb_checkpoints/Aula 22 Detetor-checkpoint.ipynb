{
 "cells": [
  {
   "cell_type": "markdown",
   "metadata": {},
   "source": [
    "# Encontro 14 -  Teste de hipóteses\n",
    "\n",
    "## Detector de fumaça\n",
    "\n",
    "\n",
    "Um detector de fumaça deve disparar se o valor médio de suas leituras for maior que 1000 ppm de fumaça, com um nível de significância de $1%$.\n",
    "\n",
    "Uma série de leituras foi obtida, e os valores foram:\n",
    "\n",
    "1001.16,1151.25,1063.60,998.71,1080.56,1029.08,1135.86,1027.08,1084.26,932.51,1018.50,1079.59,1033.84,996.07,826.49,1055.68,1140.52,916.77,1194.13,937.72,970.99,953.47,842.51,1159.18,1112.68,1086.33,1027.38,1200.56,985.78,897.26,1117.49,1021.43,900.42,1118.03,1062.90,1036.82,981.24,976.54,1150.58,1070.41,1055.57,1060.86,1209.50,1260.64,1056.85,1058.68,1028.38,940.40,824.06,1043.25\n",
    "\n",
    "\n",
    "O detector de fumaça precisa estabelecer se a média dos valores lido é superior à média de 1000 ppm além do nível de significância.\n",
    "\n",
    "\n",
    "Pede-se:\n",
    "\n",
    "1. Você deve usar um teste z (de normal) ou um teste t? O que você vai fazer com o desvio padrão? \n",
    "1. Formule as hipóteses $H_0$ e $H_A$ \n",
    "1. Este teste terá uma única região crítica ou mais de uma? Por quê?\n",
    "1. Você deve usar um teste z (de normal) ou um teste z? Justifique\n",
    "1. Quais são os limites das regiões críticas?\n",
    "1. Classifique onde $\\bar{x}$ se encontra em função das regiões críticas\n",
    "1. Calcule o $p-value$ e compare com $\\alpha$\n",
    "1. O que é um erro do Tipo 1? Qual a probabilidade de erro do Tipo 1 no exemplo citado?\n",
    "1. Em termos do detector de incêndio, qual o erro representado por um erro do Tipo 1?\n",
    "1. No exemplo estudado, o que seria um erro do Tipo 2?\n",
    "1. O que falta para podermos calcular qual a probabilidade de um erro do tipo 2?\n"
   ]
  },
  {
   "cell_type": "code",
   "execution_count": 2,
   "metadata": {
    "collapsed": true
   },
   "outputs": [],
   "source": [
    "import numpy as np\n",
    "import matplotlib.pyplot as plt\n",
    "import numpy.random as rnd\n",
    "import scipy as stats\n",
    "%matplotlib inline"
   ]
  },
  {
   "cell_type": "code",
   "execution_count": 3,
   "metadata": {
    "collapsed": true
   },
   "outputs": [],
   "source": [
    "extintor = [1001.16,1151.25,1063.60,998.71,1080.56,1029.08,1135.86,1027.08,1084.26,932.51,1018.50,1079.59,1033.84,996.07,826.49,1055.68,1140.52,916.77,1194.13,937.72,970.99,953.47,842.51,1159.18,1112.68,1086.33,1027.38,1200.56,985.78,897.26,1117.49,1021.43,900.42,1118.03,1062.90,1036.82,981.24,976.54,1150.58,1070.41,1055.57,1060.86,1209.50,1260.64,1056.85,1058.68,1028.38,940.40,824.06,1043.25]"
   ]
  },
  {
   "cell_type": "markdown",
   "metadata": {},
   "source": [
    "Devemos utilizar o teste z, pois nosso N é grande. Primeiro calculamos o desvio padrão (com n-1) e depois usar o teste z\n",
    "(População segue uma distribuição normal ou n > 30) e σ (desvio-padrão) é conhecido\n",
    "(z é a distância da média em relação ao desvio padrão da média)."
   ]
  },
  {
   "cell_type": "code",
   "execution_count": 9,
   "metadata": {
    "collapsed": false
   },
   "outputs": [
    {
     "name": "stdout",
     "output_type": "stream",
     "text": [
      "Desvio Padrão: 96.9549179271\n"
     ]
    }
   ],
   "source": [
    "dp = np.std(extintor, ddof = 1)\n",
    "print(\"Desvio Padrão:\", dp)"
   ]
  },
  {
   "cell_type": "markdown",
   "metadata": {},
   "source": [
    "H0 = o detector aciona apenas quando detecta uma média de valores maior que 1000ppm<br>\n",
    "HA = o detector está defeituoso e aciona quando a média dos valores está abaixo de 1000ppm"
   ]
  },
  {
   "cell_type": "markdown",
   "metadata": {},
   "source": [
    "O teste terá apenas uma região crítica, pois apenas valores abaixo da média devem ser rejeitados."
   ]
  },
  {
   "cell_type": "code",
   "execution_count": null,
   "metadata": {
    "collapsed": true
   },
   "outputs": [],
   "source": []
  }
 ],
 "metadata": {
  "kernelspec": {
   "display_name": "Python 3",
   "language": "python",
   "name": "python3"
  },
  "language_info": {
   "codemirror_mode": {
    "name": "ipython",
    "version": 3
   },
   "file_extension": ".py",
   "mimetype": "text/x-python",
   "name": "python",
   "nbconvert_exporter": "python",
   "pygments_lexer": "ipython3",
   "version": "3.5.1"
  }
 },
 "nbformat": 4,
 "nbformat_minor": 0
}
