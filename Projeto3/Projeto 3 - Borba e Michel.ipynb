{
 "cells": [
  {
   "cell_type": "markdown",
   "metadata": {},
   "source": [
    "# Projeto 3 - Ciência dos Dados\n",
    "#### Variável: Expectativa de Vida\n",
    "\n",
    "Problemática: Como algumas necessidades básicas (Comida, Saneamento Básico, Educação) podem afetar a expectativa de vida no mundo?"
   ]
  },
  {
   "cell_type": "code",
   "execution_count": 5,
   "metadata": {
    "collapsed": false
   },
   "outputs": [
    {
     "name": "stdout",
     "output_type": "stream",
     "text": [
      "Esperamos trabalhar no diretório\n",
      "C:\\Users\\fibor\\Desktop\\Insper\\2º Semestre\\Ciência dos Dados\\Github\\CD\\Projeto3\n"
     ]
    }
   ],
   "source": [
    "%matplotlib inline\n",
    "\n",
    "import os\n",
    "import matplotlib.pyplot as plt\n",
    "from mpl_toolkits.mplot3d import Axes3D\n",
    "from matplotlib import cm\n",
    "import pandas as pd\n",
    "import numpy as np\n",
    "\n",
    "import statsmodels.api as sm1 #Usa OLS com X como matriz de planejamento\n",
    "import statsmodels.formula.api as sm  #Usa OLS como no R\n",
    "\n",
    "print('Esperamos trabalhar no diretório')\n",
    "print(os.getcwd())"
   ]
  },
  {
   "cell_type": "code",
   "execution_count": 11,
   "metadata": {
    "collapsed": true
   },
   "outputs": [],
   "source": [
    "dados = dados = pd.read_excel('Dados.xlsx',index_col=0)"
   ]
  },
  {
   "cell_type": "code",
   "execution_count": 12,
   "metadata": {
    "collapsed": false
   },
   "outputs": [
    {
     "data": {
      "text/html": [
       "<div>\n",
       "<table border=\"1\" class=\"dataframe\">\n",
       "  <thead>\n",
       "    <tr style=\"text-align: right;\">\n",
       "      <th></th>\n",
       "      <th>Life</th>\n",
       "      <th>Child</th>\n",
       "      <th>Sanitation</th>\n",
       "      <th>School</th>\n",
       "      <th>Poverty</th>\n",
       "      <th>Food</th>\n",
       "    </tr>\n",
       "    <tr>\n",
       "      <th>Countries</th>\n",
       "      <th></th>\n",
       "      <th></th>\n",
       "      <th></th>\n",
       "      <th></th>\n",
       "      <th></th>\n",
       "      <th></th>\n",
       "    </tr>\n",
       "  </thead>\n",
       "  <tbody>\n",
       "    <tr>\n",
       "      <th>Algeria</th>\n",
       "      <td>75.3</td>\n",
       "      <td>30.7</td>\n",
       "      <td>94</td>\n",
       "      <td>96.39509</td>\n",
       "      <td>3.01</td>\n",
       "      <td>3153.38</td>\n",
       "    </tr>\n",
       "    <tr>\n",
       "      <th>Armenia</th>\n",
       "      <td>72.3</td>\n",
       "      <td>21.1</td>\n",
       "      <td>89</td>\n",
       "      <td>101.31553</td>\n",
       "      <td>0.00</td>\n",
       "      <td>2279.87</td>\n",
       "    </tr>\n",
       "    <tr>\n",
       "      <th>Azerbaijan</th>\n",
       "      <td>69.1</td>\n",
       "      <td>45.8</td>\n",
       "      <td>77</td>\n",
       "      <td>98.13037</td>\n",
       "      <td>10.22</td>\n",
       "      <td>2961.19</td>\n",
       "    </tr>\n",
       "    <tr>\n",
       "      <th>Bahamas</th>\n",
       "      <td>71.8</td>\n",
       "      <td>14.8</td>\n",
       "      <td>100</td>\n",
       "      <td>102.36646</td>\n",
       "      <td>12.19</td>\n",
       "      <td>2712.50</td>\n",
       "    </tr>\n",
       "    <tr>\n",
       "      <th>Barbados</th>\n",
       "      <td>75.1</td>\n",
       "      <td>15.8</td>\n",
       "      <td>100</td>\n",
       "      <td>91.58734</td>\n",
       "      <td>5.84</td>\n",
       "      <td>3055.81</td>\n",
       "    </tr>\n",
       "  </tbody>\n",
       "</table>\n",
       "</div>"
      ],
      "text/plain": [
       "            Life  Child  Sanitation     School  Poverty     Food\n",
       "Countries                                                       \n",
       "Algeria     75.3   30.7          94   96.39509     3.01  3153.38\n",
       "Armenia     72.3   21.1          89  101.31553     0.00  2279.87\n",
       "Azerbaijan  69.1   45.8          77   98.13037    10.22  2961.19\n",
       "Bahamas     71.8   14.8         100  102.36646    12.19  2712.50\n",
       "Barbados    75.1   15.8         100   91.58734     5.84  3055.81"
      ]
     },
     "execution_count": 12,
     "metadata": {},
     "output_type": "execute_result"
    }
   ],
   "source": [
    "dados=dados[~np.isnan(dados.Life)]\n",
    "dados=dados[~np.isnan(dados.Child)]\n",
    "dados=dados[~np.isnan(dados.Sanitation)]\n",
    "dados=dados[~np.isnan(dados.School)]\n",
    "dados=dados[~np.isnan(dados.Poverty)]\n",
    "dados=dados[~np.isnan(dados.Food)]\n",
    "dados.shape\n",
    "dados.head()"
   ]
  },
  {
   "cell_type": "code",
   "execution_count": null,
   "metadata": {
    "collapsed": true
   },
   "outputs": [],
   "source": []
  }
 ],
 "metadata": {
  "kernelspec": {
   "display_name": "Python 3",
   "language": "python",
   "name": "python3"
  },
  "language_info": {
   "codemirror_mode": {
    "name": "ipython",
    "version": 3
   },
   "file_extension": ".py",
   "mimetype": "text/x-python",
   "name": "python",
   "nbconvert_exporter": "python",
   "pygments_lexer": "ipython3",
   "version": "3.5.1"
  }
 },
 "nbformat": 4,
 "nbformat_minor": 0
}
