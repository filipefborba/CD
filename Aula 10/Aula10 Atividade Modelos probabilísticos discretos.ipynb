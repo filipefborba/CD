{
 "cells": [
  {
   "cell_type": "markdown",
   "metadata": {},
   "source": [
    "___\n",
    "# Atividade: Modelos probabilísticos discretos e Dados\n",
    "___\n",
    "\n",
    "## Aula 10\n",
    "\n",
    "**Referência de Leitura:**\n",
    "1. Magalhães e Lima (7ª. Edição): Seções 3.2 e 3.3\n",
    "\n",
    "**Hoje:**\n",
    "1.\tDescrever modelos discretos quanto aos resultados teóricos.\n",
    "2.\tExplicar a utilização de modelos probabilísticos no contexto da literatura estatística.\n",
    "3.\tContrastar resultados teóricos e empíricos.\n",
    "4.\tFechamento do conteúdo.\n",
    "\n",
    "**Próxima aula:**\n",
    "1. Leitura prévia necessária: Magalhães e Lima (7ª. Edição): Seção 5.1 (pág. 137) e Seção 5.2 (pág. 146).\n",
    "___"
   ]
  },
  {
   "cell_type": "code",
   "execution_count": 1,
   "metadata": {
    "collapsed": true
   },
   "outputs": [],
   "source": [
    "%matplotlib inline\n",
    "import pandas as pd\n",
    "import matplotlib.pyplot as plt\n",
    "\n",
    "from scipy import stats #importa apenas as funções de estatísticas da biblioteca SciPy.\n",
    "import itertools #importante para gerar todos os resultados possíveis!!\n",
    "import math\n",
    "import numpy as np"
   ]
  },
  {
   "cell_type": "markdown",
   "metadata": {},
   "source": [
    "___\n",
    "## <font color='blue'>Exercício 1</font>\n",
    "\n",
    "Um resistor de 100K Ohms comprado na Santa Efigênia tem probabilidade de falha de 5%, segundo um fabricante ruim.\n",
    "\n",
    "Ainda, assuma os resistores falham de forma independente entre si.\n",
    "\n",
    "Um aluno de engenharia compra um pacote contendo $n$ resistores.\n",
    "\n",
    "1. Assuma $n=3$ e faça os itens a seguir.\n",
    "  1. Monte o espaço amostral que combine todos os resultados possíveis de Falha e não Falha desses $n$ resistores. Ainda, calcule a probabilidade de cada resultado do espaço amostral acontecer.\n",
    "  2. Se $Y$ representa o número de resistores que falham em um pacotinho com $n$ resistores, então construa a distribuição de probabilidades de $Y$.\n",
    "  3. Calcule a média e o desvio padrão de $Y$. Interprete os resultados.\n",
    "    \n",
    "2. Assuma $n=7$ e repita os itens A) a C) anteriores. No caso de $n=7$ ou maiores quantidades de resistores em um pacotinho, qual a viabilidade de construir a distribuição de probabilidades do número de resistores com defeitos quando $n$ não é pequeno?\n",
    "    \n",
    "3. Encontre a distribuição de probabilidades de cada possível valor de $Y$ utilizando a distribuição Binomial para $n=3$ e $n=7$. Calcule também $E(X)$ e $Var(X)$. Compare com as distribuições de probabilidades obtidas nos itens anteriores e discuta porque esses valores são iguais ou diferentes!\n",
    "    \n",
    "> **DISTRIBUIÇÃO BINOMIAL - TEORIA:**\n",
    "\n",
    "> É responsável por modelar uma variável $Y$ definida pelo Número de sucessos em $n$ tentativas, cuja probabilidade de sucesso é dada por $p$. Assim, dizemos que $Y$~$Bin(n,p)$ e lê-se: $Y$ segue uma distribuição binomial com $n$ tentativas e $p$ como probabilidade de sucesso. \n",
    "\n",
    "> A função de probabilidade nesse caso é dada por:\n",
    "$P(Y=y)=\\left(\n",
    "\\begin{array}{c}\n",
    "    n \\\\\n",
    "    y\n",
    "\\end{array}\\right) p^y (1-p)^{(n-y)}$\n",
    "\n",
    "> Para um experimento ter as probabilidade dos números de sucessos modeladas por uma distribuição Binomial, o mesmo precisa ter as seguintes propriedades:\n",
    "* é uma contagem de $n$ repetições (ou tentativas ou ensaios) idênticas;\n",
    "* cada repetição tem apenas 2 resultados possíveis: um é denominado sucesso e o outro, fracasso;\n",
    "* a probabilidade de sucesso para cada ensaio é denominada $p$ e será constante em cada repetição. Então, a probabilidade de fracasso $(1-p)$ também não varia de tentativa para tentativa;\n",
    "* As tentativas são independentes.\n",
    "\n",
    "\n",
    "> **DISTRIBUIÇÃO BINOMIAL - PYTHON:** <sup> [https://en.wikipedia.org/wiki/SciPy]\n",
    "\n",
    "> Algumas funções úteis para desenvolver seu código: <sup> [http://docs.scipy.org/doc/scipy-0.16.1/reference/generated/scipy.stats.binom.html]\n",
    "* $P(Y=y)$: `stats.binom.pmf(y, n, p)`\n",
    "* $P(Y\\leq y)$: `stats.binom.cdf(y, n, p)`\n",
    "* $E(X)$ e $Var(X)$: `stats.binom.stats(n, p, moments='mv')`\n"
   ]
  },
  {
   "cell_type": "code",
   "execution_count": 2,
   "metadata": {
    "collapsed": false
   },
   "outputs": [
    {
     "data": {
      "text/plain": [
       "[('Success', 'Success', 'Success'),\n",
       " ('Success', 'Success', 'Fail'),\n",
       " ('Success', 'Fail', 'Success'),\n",
       " ('Success', 'Fail', 'Fail'),\n",
       " ('Fail', 'Success', 'Success'),\n",
       " ('Fail', 'Success', 'Fail'),\n",
       " ('Fail', 'Fail', 'Success'),\n",
       " ('Fail', 'Fail', 'Fail')]"
      ]
     },
     "execution_count": 2,
     "metadata": {},
     "output_type": "execute_result"
    }
   ],
   "source": [
    "#1-A)\n",
    "n=3\n",
    "possibilities = [\"Success\", \"Fail\"]\n",
    "probabilities = {\"Success\":0.95, \"Fail\":0.05}\n",
    "arrange = itertools.product(possibilities, repeat=n)\n",
    "sample_space = list(arrange)\n",
    "\n",
    "probability_lines = []\n",
    "\n",
    "for i in sample_space:\n",
    "    p = 1.0\n",
    "    for e in i:\n",
    "        p *= probabilities[e]\n",
    "    probability_lines.append(round(p*100,2))\n",
    "    \n",
    "sample_space"
   ]
  },
  {
   "cell_type": "code",
   "execution_count": 3,
   "metadata": {
    "collapsed": false
   },
   "outputs": [
    {
     "name": "stdout",
     "output_type": "stream",
     "text": [
      "100.0\n"
     ]
    },
    {
     "data": {
      "text/plain": [
       "[85.74, 4.51, 4.51, 0.24, 4.51, 0.24, 0.24, 0.01]"
      ]
     },
     "execution_count": 3,
     "metadata": {},
     "output_type": "execute_result"
    }
   ],
   "source": [
    "print(sum(probability_lines))\n",
    "probability_lines"
   ]
  },
  {
   "cell_type": "code",
   "execution_count": 4,
   "metadata": {
    "collapsed": false
   },
   "outputs": [
    {
     "name": "stdout",
     "output_type": "stream",
     "text": [
      "Número de Falhas:  0  Probabilidade 85.74\n",
      "Número de Falhas:  1  Probabilidade 13.53\n",
      "Número de Falhas:  2  Probabilidade 0.72\n",
      "Número de Falhas:  3  Probabilidade 0.01\n"
     ]
    }
   ],
   "source": [
    "#1-B)\n",
    "Y = {}\n",
    "\n",
    "for i in range(len(sample_space)):\n",
    "    fail = sample_space[i].count(\"Fail\")\n",
    "    if fail in Y:\n",
    "        Y[fail] += probability_lines[i]\n",
    "    else:\n",
    "        Y[fail] = probability_lines[i]\n",
    "        \n",
    "for fails in Y:\n",
    "    print(\"Número de Falhas: \", fails, \" Probabilidade\", \"%.2f\"%Y[fails])\n",
    "      "
   ]
  },
  {
   "cell_type": "code",
   "execution_count": 5,
   "metadata": {
    "collapsed": false
   },
   "outputs": [
    {
     "name": "stdout",
     "output_type": "stream",
     "text": [
      "Média: 12.5\n",
      "Desvio Padrão: 27.7545960158\n"
     ]
    }
   ],
   "source": [
    "#1-C)\n",
    "print(\"Média:\",np.mean(probability_lines))\n",
    "print(\"Desvio Padrão:\",np.std(probability_lines))"
   ]
  },
  {
   "cell_type": "markdown",
   "metadata": {},
   "source": [
    "# 2"
   ]
  },
  {
   "cell_type": "code",
   "execution_count": 6,
   "metadata": {
    "collapsed": true
   },
   "outputs": [
    {
     "data": {
      "text/plain": [
       "[('Success', 'Success', 'Success', 'Success', 'Success', 'Success', 'Success'),\n",
       " ('Success', 'Success', 'Success', 'Success', 'Success', 'Success', 'Fail'),\n",
       " ('Success', 'Success', 'Success', 'Success', 'Success', 'Fail', 'Success'),\n",
       " ('Success', 'Success', 'Success', 'Success', 'Success', 'Fail', 'Fail'),\n",
       " ('Success', 'Success', 'Success', 'Success', 'Fail', 'Success', 'Success'),\n",
       " ('Success', 'Success', 'Success', 'Success', 'Fail', 'Success', 'Fail'),\n",
       " ('Success', 'Success', 'Success', 'Success', 'Fail', 'Fail', 'Success'),\n",
       " ('Success', 'Success', 'Success', 'Success', 'Fail', 'Fail', 'Fail'),\n",
       " ('Success', 'Success', 'Success', 'Fail', 'Success', 'Success', 'Success'),\n",
       " ('Success', 'Success', 'Success', 'Fail', 'Success', 'Success', 'Fail'),\n",
       " ('Success', 'Success', 'Success', 'Fail', 'Success', 'Fail', 'Success'),\n",
       " ('Success', 'Success', 'Success', 'Fail', 'Success', 'Fail', 'Fail'),\n",
       " ('Success', 'Success', 'Success', 'Fail', 'Fail', 'Success', 'Success'),\n",
       " ('Success', 'Success', 'Success', 'Fail', 'Fail', 'Success', 'Fail'),\n",
       " ('Success', 'Success', 'Success', 'Fail', 'Fail', 'Fail', 'Success'),\n",
       " ('Success', 'Success', 'Success', 'Fail', 'Fail', 'Fail', 'Fail'),\n",
       " ('Success', 'Success', 'Fail', 'Success', 'Success', 'Success', 'Success'),\n",
       " ('Success', 'Success', 'Fail', 'Success', 'Success', 'Success', 'Fail'),\n",
       " ('Success', 'Success', 'Fail', 'Success', 'Success', 'Fail', 'Success'),\n",
       " ('Success', 'Success', 'Fail', 'Success', 'Success', 'Fail', 'Fail'),\n",
       " ('Success', 'Success', 'Fail', 'Success', 'Fail', 'Success', 'Success'),\n",
       " ('Success', 'Success', 'Fail', 'Success', 'Fail', 'Success', 'Fail'),\n",
       " ('Success', 'Success', 'Fail', 'Success', 'Fail', 'Fail', 'Success'),\n",
       " ('Success', 'Success', 'Fail', 'Success', 'Fail', 'Fail', 'Fail'),\n",
       " ('Success', 'Success', 'Fail', 'Fail', 'Success', 'Success', 'Success'),\n",
       " ('Success', 'Success', 'Fail', 'Fail', 'Success', 'Success', 'Fail'),\n",
       " ('Success', 'Success', 'Fail', 'Fail', 'Success', 'Fail', 'Success'),\n",
       " ('Success', 'Success', 'Fail', 'Fail', 'Success', 'Fail', 'Fail'),\n",
       " ('Success', 'Success', 'Fail', 'Fail', 'Fail', 'Success', 'Success'),\n",
       " ('Success', 'Success', 'Fail', 'Fail', 'Fail', 'Success', 'Fail'),\n",
       " ('Success', 'Success', 'Fail', 'Fail', 'Fail', 'Fail', 'Success'),\n",
       " ('Success', 'Success', 'Fail', 'Fail', 'Fail', 'Fail', 'Fail'),\n",
       " ('Success', 'Fail', 'Success', 'Success', 'Success', 'Success', 'Success'),\n",
       " ('Success', 'Fail', 'Success', 'Success', 'Success', 'Success', 'Fail'),\n",
       " ('Success', 'Fail', 'Success', 'Success', 'Success', 'Fail', 'Success'),\n",
       " ('Success', 'Fail', 'Success', 'Success', 'Success', 'Fail', 'Fail'),\n",
       " ('Success', 'Fail', 'Success', 'Success', 'Fail', 'Success', 'Success'),\n",
       " ('Success', 'Fail', 'Success', 'Success', 'Fail', 'Success', 'Fail'),\n",
       " ('Success', 'Fail', 'Success', 'Success', 'Fail', 'Fail', 'Success'),\n",
       " ('Success', 'Fail', 'Success', 'Success', 'Fail', 'Fail', 'Fail'),\n",
       " ('Success', 'Fail', 'Success', 'Fail', 'Success', 'Success', 'Success'),\n",
       " ('Success', 'Fail', 'Success', 'Fail', 'Success', 'Success', 'Fail'),\n",
       " ('Success', 'Fail', 'Success', 'Fail', 'Success', 'Fail', 'Success'),\n",
       " ('Success', 'Fail', 'Success', 'Fail', 'Success', 'Fail', 'Fail'),\n",
       " ('Success', 'Fail', 'Success', 'Fail', 'Fail', 'Success', 'Success'),\n",
       " ('Success', 'Fail', 'Success', 'Fail', 'Fail', 'Success', 'Fail'),\n",
       " ('Success', 'Fail', 'Success', 'Fail', 'Fail', 'Fail', 'Success'),\n",
       " ('Success', 'Fail', 'Success', 'Fail', 'Fail', 'Fail', 'Fail'),\n",
       " ('Success', 'Fail', 'Fail', 'Success', 'Success', 'Success', 'Success'),\n",
       " ('Success', 'Fail', 'Fail', 'Success', 'Success', 'Success', 'Fail'),\n",
       " ('Success', 'Fail', 'Fail', 'Success', 'Success', 'Fail', 'Success'),\n",
       " ('Success', 'Fail', 'Fail', 'Success', 'Success', 'Fail', 'Fail'),\n",
       " ('Success', 'Fail', 'Fail', 'Success', 'Fail', 'Success', 'Success'),\n",
       " ('Success', 'Fail', 'Fail', 'Success', 'Fail', 'Success', 'Fail'),\n",
       " ('Success', 'Fail', 'Fail', 'Success', 'Fail', 'Fail', 'Success'),\n",
       " ('Success', 'Fail', 'Fail', 'Success', 'Fail', 'Fail', 'Fail'),\n",
       " ('Success', 'Fail', 'Fail', 'Fail', 'Success', 'Success', 'Success'),\n",
       " ('Success', 'Fail', 'Fail', 'Fail', 'Success', 'Success', 'Fail'),\n",
       " ('Success', 'Fail', 'Fail', 'Fail', 'Success', 'Fail', 'Success'),\n",
       " ('Success', 'Fail', 'Fail', 'Fail', 'Success', 'Fail', 'Fail'),\n",
       " ('Success', 'Fail', 'Fail', 'Fail', 'Fail', 'Success', 'Success'),\n",
       " ('Success', 'Fail', 'Fail', 'Fail', 'Fail', 'Success', 'Fail'),\n",
       " ('Success', 'Fail', 'Fail', 'Fail', 'Fail', 'Fail', 'Success'),\n",
       " ('Success', 'Fail', 'Fail', 'Fail', 'Fail', 'Fail', 'Fail'),\n",
       " ('Fail', 'Success', 'Success', 'Success', 'Success', 'Success', 'Success'),\n",
       " ('Fail', 'Success', 'Success', 'Success', 'Success', 'Success', 'Fail'),\n",
       " ('Fail', 'Success', 'Success', 'Success', 'Success', 'Fail', 'Success'),\n",
       " ('Fail', 'Success', 'Success', 'Success', 'Success', 'Fail', 'Fail'),\n",
       " ('Fail', 'Success', 'Success', 'Success', 'Fail', 'Success', 'Success'),\n",
       " ('Fail', 'Success', 'Success', 'Success', 'Fail', 'Success', 'Fail'),\n",
       " ('Fail', 'Success', 'Success', 'Success', 'Fail', 'Fail', 'Success'),\n",
       " ('Fail', 'Success', 'Success', 'Success', 'Fail', 'Fail', 'Fail'),\n",
       " ('Fail', 'Success', 'Success', 'Fail', 'Success', 'Success', 'Success'),\n",
       " ('Fail', 'Success', 'Success', 'Fail', 'Success', 'Success', 'Fail'),\n",
       " ('Fail', 'Success', 'Success', 'Fail', 'Success', 'Fail', 'Success'),\n",
       " ('Fail', 'Success', 'Success', 'Fail', 'Success', 'Fail', 'Fail'),\n",
       " ('Fail', 'Success', 'Success', 'Fail', 'Fail', 'Success', 'Success'),\n",
       " ('Fail', 'Success', 'Success', 'Fail', 'Fail', 'Success', 'Fail'),\n",
       " ('Fail', 'Success', 'Success', 'Fail', 'Fail', 'Fail', 'Success'),\n",
       " ('Fail', 'Success', 'Success', 'Fail', 'Fail', 'Fail', 'Fail'),\n",
       " ('Fail', 'Success', 'Fail', 'Success', 'Success', 'Success', 'Success'),\n",
       " ('Fail', 'Success', 'Fail', 'Success', 'Success', 'Success', 'Fail'),\n",
       " ('Fail', 'Success', 'Fail', 'Success', 'Success', 'Fail', 'Success'),\n",
       " ('Fail', 'Success', 'Fail', 'Success', 'Success', 'Fail', 'Fail'),\n",
       " ('Fail', 'Success', 'Fail', 'Success', 'Fail', 'Success', 'Success'),\n",
       " ('Fail', 'Success', 'Fail', 'Success', 'Fail', 'Success', 'Fail'),\n",
       " ('Fail', 'Success', 'Fail', 'Success', 'Fail', 'Fail', 'Success'),\n",
       " ('Fail', 'Success', 'Fail', 'Success', 'Fail', 'Fail', 'Fail'),\n",
       " ('Fail', 'Success', 'Fail', 'Fail', 'Success', 'Success', 'Success'),\n",
       " ('Fail', 'Success', 'Fail', 'Fail', 'Success', 'Success', 'Fail'),\n",
       " ('Fail', 'Success', 'Fail', 'Fail', 'Success', 'Fail', 'Success'),\n",
       " ('Fail', 'Success', 'Fail', 'Fail', 'Success', 'Fail', 'Fail'),\n",
       " ('Fail', 'Success', 'Fail', 'Fail', 'Fail', 'Success', 'Success'),\n",
       " ('Fail', 'Success', 'Fail', 'Fail', 'Fail', 'Success', 'Fail'),\n",
       " ('Fail', 'Success', 'Fail', 'Fail', 'Fail', 'Fail', 'Success'),\n",
       " ('Fail', 'Success', 'Fail', 'Fail', 'Fail', 'Fail', 'Fail'),\n",
       " ('Fail', 'Fail', 'Success', 'Success', 'Success', 'Success', 'Success'),\n",
       " ('Fail', 'Fail', 'Success', 'Success', 'Success', 'Success', 'Fail'),\n",
       " ('Fail', 'Fail', 'Success', 'Success', 'Success', 'Fail', 'Success'),\n",
       " ('Fail', 'Fail', 'Success', 'Success', 'Success', 'Fail', 'Fail'),\n",
       " ('Fail', 'Fail', 'Success', 'Success', 'Fail', 'Success', 'Success'),\n",
       " ('Fail', 'Fail', 'Success', 'Success', 'Fail', 'Success', 'Fail'),\n",
       " ('Fail', 'Fail', 'Success', 'Success', 'Fail', 'Fail', 'Success'),\n",
       " ('Fail', 'Fail', 'Success', 'Success', 'Fail', 'Fail', 'Fail'),\n",
       " ('Fail', 'Fail', 'Success', 'Fail', 'Success', 'Success', 'Success'),\n",
       " ('Fail', 'Fail', 'Success', 'Fail', 'Success', 'Success', 'Fail'),\n",
       " ('Fail', 'Fail', 'Success', 'Fail', 'Success', 'Fail', 'Success'),\n",
       " ('Fail', 'Fail', 'Success', 'Fail', 'Success', 'Fail', 'Fail'),\n",
       " ('Fail', 'Fail', 'Success', 'Fail', 'Fail', 'Success', 'Success'),\n",
       " ('Fail', 'Fail', 'Success', 'Fail', 'Fail', 'Success', 'Fail'),\n",
       " ('Fail', 'Fail', 'Success', 'Fail', 'Fail', 'Fail', 'Success'),\n",
       " ('Fail', 'Fail', 'Success', 'Fail', 'Fail', 'Fail', 'Fail'),\n",
       " ('Fail', 'Fail', 'Fail', 'Success', 'Success', 'Success', 'Success'),\n",
       " ('Fail', 'Fail', 'Fail', 'Success', 'Success', 'Success', 'Fail'),\n",
       " ('Fail', 'Fail', 'Fail', 'Success', 'Success', 'Fail', 'Success'),\n",
       " ('Fail', 'Fail', 'Fail', 'Success', 'Success', 'Fail', 'Fail'),\n",
       " ('Fail', 'Fail', 'Fail', 'Success', 'Fail', 'Success', 'Success'),\n",
       " ('Fail', 'Fail', 'Fail', 'Success', 'Fail', 'Success', 'Fail'),\n",
       " ('Fail', 'Fail', 'Fail', 'Success', 'Fail', 'Fail', 'Success'),\n",
       " ('Fail', 'Fail', 'Fail', 'Success', 'Fail', 'Fail', 'Fail'),\n",
       " ('Fail', 'Fail', 'Fail', 'Fail', 'Success', 'Success', 'Success'),\n",
       " ('Fail', 'Fail', 'Fail', 'Fail', 'Success', 'Success', 'Fail'),\n",
       " ('Fail', 'Fail', 'Fail', 'Fail', 'Success', 'Fail', 'Success'),\n",
       " ('Fail', 'Fail', 'Fail', 'Fail', 'Success', 'Fail', 'Fail'),\n",
       " ('Fail', 'Fail', 'Fail', 'Fail', 'Fail', 'Success', 'Success'),\n",
       " ('Fail', 'Fail', 'Fail', 'Fail', 'Fail', 'Success', 'Fail'),\n",
       " ('Fail', 'Fail', 'Fail', 'Fail', 'Fail', 'Fail', 'Success'),\n",
       " ('Fail', 'Fail', 'Fail', 'Fail', 'Fail', 'Fail', 'Fail')]"
      ]
     },
     "execution_count": 6,
     "metadata": {},
     "output_type": "execute_result"
    }
   ],
   "source": [
    "#2\n",
    "n=7\n",
    "possibilities = [\"Success\", \"Fail\"]\n",
    "probabilities = {\"Success\":0.95, \"Fail\":0.05}\n",
    "arrange = itertools.product(possibilities, repeat=n)\n",
    "sample_space = list(arrange)\n",
    "\n",
    "probability_lines = []\n",
    "\n",
    "for i in sample_space:\n",
    "    p = 1.0\n",
    "    for e in i:\n",
    "        p *= probabilities[e]\n",
    "    probability_lines.append(round(p*100,2))\n",
    "    \n",
    "sample_space"
   ]
  },
  {
   "cell_type": "code",
   "execution_count": 7,
   "metadata": {
    "collapsed": true
   },
   "outputs": [
    {
     "name": "stdout",
     "output_type": "stream",
     "text": [
      "99.93000000000018\n"
     ]
    },
    {
     "data": {
      "text/plain": [
       "[69.83,\n",
       " 3.68,\n",
       " 3.68,\n",
       " 0.19,\n",
       " 3.68,\n",
       " 0.19,\n",
       " 0.19,\n",
       " 0.01,\n",
       " 3.68,\n",
       " 0.19,\n",
       " 0.19,\n",
       " 0.01,\n",
       " 0.19,\n",
       " 0.01,\n",
       " 0.01,\n",
       " 0.0,\n",
       " 3.68,\n",
       " 0.19,\n",
       " 0.19,\n",
       " 0.01,\n",
       " 0.19,\n",
       " 0.01,\n",
       " 0.01,\n",
       " 0.0,\n",
       " 0.19,\n",
       " 0.01,\n",
       " 0.01,\n",
       " 0.0,\n",
       " 0.01,\n",
       " 0.0,\n",
       " 0.0,\n",
       " 0.0,\n",
       " 3.68,\n",
       " 0.19,\n",
       " 0.19,\n",
       " 0.01,\n",
       " 0.19,\n",
       " 0.01,\n",
       " 0.01,\n",
       " 0.0,\n",
       " 0.19,\n",
       " 0.01,\n",
       " 0.01,\n",
       " 0.0,\n",
       " 0.01,\n",
       " 0.0,\n",
       " 0.0,\n",
       " 0.0,\n",
       " 0.19,\n",
       " 0.01,\n",
       " 0.01,\n",
       " 0.0,\n",
       " 0.01,\n",
       " 0.0,\n",
       " 0.0,\n",
       " 0.0,\n",
       " 0.01,\n",
       " 0.0,\n",
       " 0.0,\n",
       " 0.0,\n",
       " 0.0,\n",
       " 0.0,\n",
       " 0.0,\n",
       " 0.0,\n",
       " 3.68,\n",
       " 0.19,\n",
       " 0.19,\n",
       " 0.01,\n",
       " 0.19,\n",
       " 0.01,\n",
       " 0.01,\n",
       " 0.0,\n",
       " 0.19,\n",
       " 0.01,\n",
       " 0.01,\n",
       " 0.0,\n",
       " 0.01,\n",
       " 0.0,\n",
       " 0.0,\n",
       " 0.0,\n",
       " 0.19,\n",
       " 0.01,\n",
       " 0.01,\n",
       " 0.0,\n",
       " 0.01,\n",
       " 0.0,\n",
       " 0.0,\n",
       " 0.0,\n",
       " 0.01,\n",
       " 0.0,\n",
       " 0.0,\n",
       " 0.0,\n",
       " 0.0,\n",
       " 0.0,\n",
       " 0.0,\n",
       " 0.0,\n",
       " 0.19,\n",
       " 0.01,\n",
       " 0.01,\n",
       " 0.0,\n",
       " 0.01,\n",
       " 0.0,\n",
       " 0.0,\n",
       " 0.0,\n",
       " 0.01,\n",
       " 0.0,\n",
       " 0.0,\n",
       " 0.0,\n",
       " 0.0,\n",
       " 0.0,\n",
       " 0.0,\n",
       " 0.0,\n",
       " 0.01,\n",
       " 0.0,\n",
       " 0.0,\n",
       " 0.0,\n",
       " 0.0,\n",
       " 0.0,\n",
       " 0.0,\n",
       " 0.0,\n",
       " 0.0,\n",
       " 0.0,\n",
       " 0.0,\n",
       " 0.0,\n",
       " 0.0,\n",
       " 0.0,\n",
       " 0.0,\n",
       " 0.0]"
      ]
     },
     "execution_count": 7,
     "metadata": {},
     "output_type": "execute_result"
    }
   ],
   "source": [
    "print(sum(probability_lines))\n",
    "probability_lines"
   ]
  },
  {
   "cell_type": "code",
   "execution_count": 8,
   "metadata": {
    "collapsed": false
   },
   "outputs": [
    {
     "name": "stdout",
     "output_type": "stream",
     "text": [
      "Número de Falhas:  0  Probabilidade 69.83\n",
      "Número de Falhas:  1  Probabilidade 25.76\n",
      "Número de Falhas:  2  Probabilidade 3.99\n",
      "Número de Falhas:  3  Probabilidade 0.35\n",
      "Número de Falhas:  4  Probabilidade 0.00\n",
      "Número de Falhas:  5  Probabilidade 0.00\n",
      "Número de Falhas:  6  Probabilidade 0.00\n",
      "Número de Falhas:  7  Probabilidade 0.00\n"
     ]
    }
   ],
   "source": [
    "Y = {}\n",
    "\n",
    "for i in range(len(sample_space)):\n",
    "    fail = sample_space[i].count(\"Fail\")\n",
    "    if fail in Y:\n",
    "        Y[fail] += probability_lines[i]\n",
    "    else:\n",
    "        Y[fail] = probability_lines[i]\n",
    "        \n",
    "for fails in Y:\n",
    "    print(\"Número de Falhas: \", fails, \" Probabilidade\", \"%.2f\"%Y[fails])"
   ]
  },
  {
   "cell_type": "markdown",
   "metadata": {},
   "source": [
    "<font color=\"blue\">A viabilidade de se criar a distribuição de probabilidades quando 'n' não é pequeno é quase nula, pois são muitas possibilidades e números para se trabalhar, o que se torna inviável, ainda mais manualmente.</font>"
   ]
  },
  {
   "cell_type": "markdown",
   "metadata": {
    "collapsed": true
   },
   "source": [
    "___\n",
    "## <font color='blue'>Exercício 2</font>\n",
    "\n",
    "Uma fábrica produz determinado veículo. O gerente de vendas fechou um negócio que implica na produção de pelo menos 110 unidades nos próximos dois meses. Para isso, será construída uma nova linha de montagem com capacidade para produzir em média 50 veículos por mês (considere meses de 30 dias). A linha funcionará ininterruptamente. Além disso, apenas um veículo é produzido por vez. Considere que um modelo Poisson seja adequado para a quantidade de veículos produzidos.\n",
    "   1. Qual a probabilidade  da produção ser igual a 100 veículos nos próximos dois meses?\n",
    "   2. Qual a probabilidade  da produção ser de pelo menos 100 veículos nos próximos dois meses?\n",
    "   3. Qual a probabilidade da produção ser entre 100 e 110 veículos nos próximos dois meses?\n",
    "   4. Se forem produzidos de pelo menos 100 veículos no próximo mês, qual a probabilidade do gerente cumprir a meta negociada?\n",
    "   5. Caso o prazo seja cumprido, o lucro será da ordem de $250$ mil, caso não seja, o lucro cai para $200$ mil. Qual é o lucro esperado e seu desvio-padrão?\n",
    "\n",
    "**Observação:** Explore os comandos de `stats.poisson`. <sup>[http://docs.scipy.org/doc/scipy/reference/generated/scipy.stats.poisson.html]\n"
   ]
  },
  {
   "cell_type": "code",
   "execution_count": 9,
   "metadata": {
    "collapsed": false
   },
   "outputs": [
    {
     "data": {
      "text/plain": [
       "0.039860996809148827"
      ]
     },
     "execution_count": 9,
     "metadata": {},
     "output_type": "execute_result"
    }
   ],
   "source": [
    "#1\n",
    "stats.poisson.pmf(100,100,loc=0)"
   ]
  },
  {
   "cell_type": "markdown",
   "metadata": {},
   "source": [
    "___\n",
    "## <font color='blue'>Exercício 3</font> \n",
    "### <font color='red'>**Check para dia 13/09 em DUPLA **</font>\n",
    "\n",
    "Esse exercício irá explorar uma modelagem de dados reais.\n",
    "\n",
    "> **Confira alguns itens obrigatórios verificados durante a vistoria do Detran**\n",
    "\n",
    "> *Todos os veículos, novos ou velhos, precisam passar por uma vistoria todos os anos. (...) O motorista precisa estar atento a alguns itens obrigatórios. Tudo deve funcionar perfeitamente, apresentar bom estado de conservação e estar dentro do prazo de validade.*\n",
    "\n",
    "> <sup>Fonte: http://extra.globo.com/noticias/brasil/transito-seguro/confira-alguns-itens-obrigatorios-verificados-durante-vistoria-do-detran-10190355.html</sup>\n",
    "\n",
    "Essa matéria lista 14 itens que são inspecionados pelo Detran, dentre os quais têm-se: extintor de incêndio deve estar dentro do prazo de validade; pneus devem estar em bom estado de conservação; buzina deve funcionar perfeitamente; e cintos de segurança para todos os ocupantes do carro. Se, no final das contas, todos os 14 itens estiverem funcionando perfeitamente, o motorista irá feliz para casa assegurado de que seu carro está sem problemas com a vistoria.\n",
    "\n",
    "1. A base de dados `Carros.txt` apresenta, para cada um dos três mil carros de passeio vistoriados, duas informações: tipo de carro (1: Popular e 2: Não Popular) e quantidade de itens vistoriados em não conformidade (que pode variar de 0 a 14). \n",
    "    1. Considerando todos os carros, analise a quantidade de itens vistoriados em não conformidade. Pela tabela de frequências relativas, calcule a média e variância dessa quantidade. Interprete-os.\n",
    "    2. Assuma que a variável *Quantidade de itens em não conformidade* possa ser ajustada pelo modelo Binomial com parâmetros $n=14$ e $p=0,10$. Interprete esses parâmetros para o problema em questão e, ainda, discuta se as propriedades da distribuição Binomial estão satisfeitas para o problema aqui me questão.\n",
    "    \n",
    "    **Independente da sua resposta anterior, considere que a distribuição binomial seja adequada para modelar a variável de interesse nos próximos itens!**\n",
    "    3. Utilizando o método `stats.binom.pmf`, obtenha a probabilidade de cada uma das quantidades de itens em não conformidade quando $n=14$ e $p=0,10$. Calcule o valor esperado e a variância da quantidade de itens em não conformidade utilizando o método `stats.binom.stats` e via resultado da Tabela 4.4 do Magalhães e Lima (pág. 125).\n",
    "    4. Compare as probabilidades teóricas com as frequências relativas observadas nos dados. Para isso, tem-se, por exemplo, as duas opções abaixo para comparar se os resultados empíricos se encaixam com o modelo teórico proposto. \n",
    "        - A primeira opção gráfica contrasta a frequência relativa e a probabilidade teórica para uma determinada quantidade de itens em não conformidade! Vide Figura 3.4 do livro Magalhães e Lima (pág. 87). Ou seja, essa opção contrasta a frequência relativa em um valor de $y$ e a probabilidade pontual $P(Y=y)$.\n",
    "        - A segunda contrasta a frequência relativa acumulada com a probabilidade acumulada até determinada quantidade de itens em não conformidade. Ou seja, compara a frequência relativa acumulada até $y$ com a probabilidade acumulada $P(Y\\leq y)$.\n",
    "    Construa os gráficos de acordo com as duas opções e refine sua conclusão quanto ao uso do modelo teórico para ajustar a variável em questão!\n",
    "    5. Na prática, qual a necessidade de um modelo probabilístico já que se têm os dados observados?\n",
    "    6. Considerando apenas os carros populares, o modelo Binomial com parâmetros $n=14$ e $p=0,10$ é adequado para ajustar a variável Quantidade de itens em não conformidade? Se sim, justifique; caso não, sugira novos valores para os parâmetros da distribuição ajuste aos dados."
   ]
  },
  {
   "cell_type": "code",
   "execution_count": 10,
   "metadata": {
    "collapsed": false
   },
   "outputs": [
    {
     "name": "stdout",
     "output_type": "stream",
     "text": [
      "Esperamos trabalhar no diretório\n",
      "C:\\Users\\fibor\\Desktop\\Insper\\2º Semestre\\Ciência dos Dados\\Github\\CD\\Aula 10\n"
     ]
    }
   ],
   "source": [
    "import os\n",
    "print('Esperamos trabalhar no diretório')\n",
    "print(os.getcwd())\n",
    "carros = pd.read_table('Carros.txt', sep=' ')"
   ]
  },
  {
   "cell_type": "code",
   "execution_count": 11,
   "metadata": {
    "collapsed": false
   },
   "outputs": [
    {
     "data": {
      "text/html": [
       "<div>\n",
       "<table border=\"1\" class=\"dataframe\">\n",
       "  <thead>\n",
       "    <tr style=\"text-align: right;\">\n",
       "      <th></th>\n",
       "      <th>Tipo</th>\n",
       "      <th>Quantidade</th>\n",
       "    </tr>\n",
       "  </thead>\n",
       "  <tbody>\n",
       "    <tr>\n",
       "      <th>1</th>\n",
       "      <td>1</td>\n",
       "      <td>0</td>\n",
       "    </tr>\n",
       "    <tr>\n",
       "      <th>2</th>\n",
       "      <td>1</td>\n",
       "      <td>2</td>\n",
       "    </tr>\n",
       "    <tr>\n",
       "      <th>3</th>\n",
       "      <td>1</td>\n",
       "      <td>2</td>\n",
       "    </tr>\n",
       "    <tr>\n",
       "      <th>4</th>\n",
       "      <td>1</td>\n",
       "      <td>3</td>\n",
       "    </tr>\n",
       "    <tr>\n",
       "      <th>5</th>\n",
       "      <td>1</td>\n",
       "      <td>1</td>\n",
       "    </tr>\n",
       "  </tbody>\n",
       "</table>\n",
       "</div>"
      ],
      "text/plain": [
       "   Tipo  Quantidade\n",
       "1     1           0\n",
       "2     1           2\n",
       "3     1           2\n",
       "4     1           3\n",
       "5     1           1"
      ]
     },
     "execution_count": 11,
     "metadata": {},
     "output_type": "execute_result"
    }
   ],
   "source": [
    "carros.head()"
   ]
  },
  {
   "cell_type": "code",
   "execution_count": 12,
   "metadata": {
    "collapsed": false
   },
   "outputs": [
    {
     "data": {
      "text/plain": [
       "1    1800\n",
       "2    1200\n",
       "Name: Tipo, dtype: int64"
      ]
     },
     "execution_count": 12,
     "metadata": {},
     "output_type": "execute_result"
    }
   ],
   "source": [
    "carros.Tipo.value_counts()"
   ]
  },
  {
   "cell_type": "code",
   "execution_count": 13,
   "metadata": {
    "collapsed": false
   },
   "outputs": [
    {
     "data": {
      "text/plain": [
       "1    950\n",
       "0    864\n",
       "2    664\n",
       "3    325\n",
       "4    139\n",
       "5     47\n",
       "6      8\n",
       "7      2\n",
       "8      1\n",
       "Name: Quantidade, dtype: int64"
      ]
     },
     "execution_count": 13,
     "metadata": {},
     "output_type": "execute_result"
    }
   ],
   "source": [
    "carros.Quantidade.value_counts()"
   ]
  },
  {
   "cell_type": "code",
   "execution_count": 14,
   "metadata": {
    "collapsed": false
   },
   "outputs": [
    {
     "name": "stdout",
     "output_type": "stream",
     "text": [
      "Frequência relativa do tipo de carro (em %):\n",
      "1    60\n",
      "2    40\n",
      "Name: Tipo, dtype: float64 \n",
      "\n",
      "Frequência relativa de carros com defeito (em %):\n"
     ]
    },
    {
     "data": {
      "text/plain": [
       "1    31.7\n",
       "0    28.8\n",
       "2    22.1\n",
       "3    10.8\n",
       "4     4.6\n",
       "5     1.6\n",
       "6     0.3\n",
       "7     0.1\n",
       "8     0.0\n",
       "Name: Quantidade, dtype: float64"
      ]
     },
     "execution_count": 14,
     "metadata": {},
     "output_type": "execute_result"
    }
   ],
   "source": [
    "n = carros.shape[0]\n",
    "print(\"Frequência relativa do tipo de carro (em %):\")\n",
    "carrostipo = (carros.Tipo.value_counts()/n*100)\n",
    "print(carrostipo,\"\\n\")\n",
    "\n",
    "print(\"Frequência relativa de carros com defeito (em %):\")\n",
    "carrosdefeito = (carros.Quantidade.value_counts()/n*100).round(decimals=1)\n",
    "carrosdefeito"
   ]
  },
  {
   "cell_type": "code",
   "execution_count": 49,
   "metadata": {
    "collapsed": false
   },
   "outputs": [
    {
     "name": "stdout",
     "output_type": "stream",
     "text": [
      "Média do defeito do carro: 1.3713333333333333\n",
      "Variância do defeito do carro: 1.5794448888889108\n"
     ]
    }
   ],
   "source": [
    "#3-A)\n",
    "print(\"Média do defeito do carro:\",np.mean(carros.Quantidade))\n",
    "print(\"Variância do defeito do carro:\",np.var(carros.Quantidade))"
   ]
  },
  {
   "cell_type": "markdown",
   "metadata": {
    "collapsed": true
   },
   "source": [
    "Geralmente, os carros que são inspecionados no Detran possuem geralmente 1 problema, porém, é comum encontrar carros com 0 ou 2 problemas com uma frequência maior em relação aos outros números."
   ]
  },
  {
   "cell_type": "code",
   "execution_count": 51,
   "metadata": {
    "collapsed": false
   },
   "outputs": [
    {
     "name": "stdout",
     "output_type": "stream",
     "text": [
      "Para y = 0: 0.22876792455\n",
      "Para y = 1: 0.355861215966\n",
      "Para y = 2: 0.257010878198\n",
      "Para y = 3: 0.114227056977 \n",
      "\n",
      "Frequência relativa:\n"
     ]
    },
    {
     "data": {
      "text/plain": [
       "1    31.7\n",
       "0    28.8\n",
       "2    22.1\n",
       "3    10.8\n",
       "4     4.6\n",
       "5     1.6\n",
       "6     0.3\n",
       "7     0.1\n",
       "8     0.0\n",
       "Name: Quantidade, dtype: float64"
      ]
     },
     "execution_count": 51,
     "metadata": {},
     "output_type": "execute_result"
    }
   ],
   "source": [
    "#3-B)\n",
    "print(\"Para y = 0:\", stats.binom.pmf(0,14,0.1))\n",
    "print(\"Para y = 1:\", stats.binom.pmf(1,14,0.1))\n",
    "print(\"Para y = 2:\", stats.binom.pmf(2,14,0.1))\n",
    "print(\"Para y = 3:\", stats.binom.pmf(3,14,0.1),\"\\n\")\n",
    "\n",
    "print(\"Frequência relativa:\")\n",
    "carrosdefeito"
   ]
  },
  {
   "cell_type": "markdown",
   "metadata": {},
   "source": [
    "Os parâmetros dados significam que para cada n(14) problemas, a probabilidade de y(0,1,2,3) acontecer é o resultado, ou seja, num espaço amostral de 14 problemas, a chance de ocorrerem 0,1,2,3 resultados exatos é igual ao resultado.\n",
    "As propriedades da distribuição Binomial não satisfazem o problema em questão, pois para valores como 0 e 1 de frequência relativa, os valores estão consideravelmente fora da realidade, apesar de quase acertar em 2 e 3."
   ]
  },
  {
   "cell_type": "code",
   "execution_count": 43,
   "metadata": {
    "collapsed": false
   },
   "outputs": [
    {
     "name": "stdout",
     "output_type": "stream",
     "text": [
      "Para y = 0: 0.22877\n",
      "Para y = 1: 0.35586\n",
      "Para y = 2: 0.25701\n",
      "Para y = 3: 0.11423\n",
      "Para y = 4: 0.03490\n",
      "Para y = 5: 0.00776\n",
      "Para y = 6: 0.00129\n",
      "Para y = 7: 0.00016\n",
      "Para y = 8: 0.00002\n",
      "Para y = 9: 0.00000\n",
      "Para y = 10: 0.00000\n",
      "Para y = 11: 0.00000\n",
      "Para y = 12: 0.00000\n",
      "Para y = 13: 0.00000\n",
      "Para y = 14: 0.00000\n"
     ]
    }
   ],
   "source": [
    "#3-C)\n",
    "for i in range(15):\n",
    "    print(\"Para y = {0}: {1:.5f}\".format(i, stats.binom.pmf(i,14,0.1)))"
   ]
  },
  {
   "cell_type": "code",
   "execution_count": 40,
   "metadata": {
    "collapsed": false
   },
   "outputs": [
    {
     "name": "stdout",
     "output_type": "stream",
     "text": [
      "Para y = 0\n",
      "Média: 0.0\n",
      "Variância: 0.0 \n",
      "\n",
      "Para y = 1\n",
      "Média: 0.1\n",
      "Variância: 0.09000000000000001 \n",
      "\n",
      "Para y = 2\n",
      "Média: 0.2\n",
      "Variância: 0.18000000000000002 \n",
      "\n",
      "Para y = 3\n",
      "Média: 0.30000000000000004\n",
      "Variância: 0.2700000000000001 \n",
      "\n",
      "Para y = 4\n",
      "Média: 0.4\n",
      "Variância: 0.36000000000000004 \n",
      "\n",
      "Para y = 5\n",
      "Média: 0.5\n",
      "Variância: 0.45 \n",
      "\n",
      "Para y = 6\n",
      "Média: 0.6000000000000001\n",
      "Variância: 0.5400000000000001 \n",
      "\n",
      "Para y = 7\n",
      "Média: 0.7000000000000001\n",
      "Variância: 0.6300000000000001 \n",
      "\n",
      "Para y = 8\n",
      "Média: 0.8\n",
      "Variância: 0.7200000000000001 \n",
      "\n",
      "Para y = 9\n",
      "Média: 0.9\n",
      "Variância: 0.81 \n",
      "\n",
      "Para y = 10\n",
      "Média: 1.0\n",
      "Variância: 0.9 \n",
      "\n",
      "Para y = 11\n",
      "Média: 1.1\n",
      "Variância: 0.9900000000000001 \n",
      "\n",
      "Para y = 12\n",
      "Média: 1.2000000000000002\n",
      "Variância: 1.0800000000000003 \n",
      "\n",
      "Para y = 13\n",
      "Média: 1.3\n",
      "Variância: 1.1700000000000002 \n",
      "\n",
      "Para y = 14\n",
      "Média: 1.4000000000000001\n",
      "Variância: 1.2600000000000002 \n",
      "\n"
     ]
    }
   ],
   "source": [
    "for i in range(15):\n",
    "    print(\"Para y = {0}\".format(i))\n",
    "    print(\"Média: {0}\".format(stats.binom.stats(i,0.1, moments=\"mv\")[0]))\n",
    "    print(\"Variância: {0}\".format(stats.binom.stats(i,0.1, moments=\"mv\")[1]),\"\\n\")"
   ]
  },
  {
   "cell_type": "code",
   "execution_count": 46,
   "metadata": {
    "collapsed": false
   },
   "outputs": [
    {
     "name": "stdout",
     "output_type": "stream",
     "text": [
      "Cálculo de frequêcia relativa: \n",
      "\n",
      "Frequência relativa acumulada: 28.8\n",
      "Probabilidade de Y <= 0: 0.2287679245496101 \n",
      "\n",
      "Frequência relativa acumulada: 60.5\n",
      "Probabilidade de Y <= 1: 0.58462914051567 \n",
      "\n",
      "Frequência relativa acumulada: 82.6\n",
      "Probabilidade de Y <= 2: 0.8416400187133801 \n",
      "\n",
      "Frequência relativa acumulada: 93.4\n",
      "Probabilidade de Y <= 3: 0.9558670756901401 \n",
      "\n",
      "Frequência relativa acumulada: 98.0\n",
      "Probabilidade de Y <= 4: 0.99076978754415 \n",
      "\n",
      "Frequência relativa acumulada: 99.6\n",
      "Probabilidade de Y <= 5: 0.99852594573393 \n",
      "\n",
      "Frequência relativa acumulada: 99.9\n",
      "Probabilidade de Y <= 6: 0.99981863876556 \n",
      "\n",
      "Frequência relativa acumulada: 100.0\n",
      "Probabilidade de Y <= 7: 0.99998279026164 \n",
      "\n",
      "Frequência relativa acumulada: 100.0\n",
      "Probabilidade de Y <= 8: 0.99999874943487 \n",
      "\n"
     ]
    }
   ],
   "source": [
    "#3-D)\n",
    "print(\"Cálculo de frequêcia relativa:\",\"\\n\")\n",
    "frequencias = []\n",
    "soma = 0\n",
    "for i in range(len(carrosdefeito)):\n",
    "    soma += carrosdefeito[i]\n",
    "    frequencias.append(soma)\n",
    "    print(\"Frequência relativa acumulada:\", soma)\n",
    "    print(\"Probabilidade de Y <= {0}: {1}\".format(i, stats.binom.cdf(i,14,0.1)),\"\\n\")"
   ]
  },
  {
   "cell_type": "code",
   "execution_count": 35,
   "metadata": {
    "collapsed": false
   },
   "outputs": [
    {
     "data": {
      "text/plain": [
       "2    531\n",
       "1    511\n",
       "3    300\n",
       "0    269\n",
       "4    131\n",
       "5     47\n",
       "6      8\n",
       "7      2\n",
       "8      1\n",
       "Name: Quantidade, dtype: int64"
      ]
     },
     "execution_count": 35,
     "metadata": {},
     "output_type": "execute_result"
    }
   ],
   "source": [
    "carros_populares = carros[carros.Tipo == 1].Quantidade\n",
    "carros_populares.value_counts()"
   ]
  },
  {
   "cell_type": "markdown",
   "metadata": {},
   "source": [
    "Não seria necessário n=14, pois o máximo de problemas é 8."
   ]
  },
  {
   "cell_type": "code",
   "execution_count": null,
   "metadata": {
    "collapsed": true
   },
   "outputs": [],
   "source": []
  }
 ],
 "metadata": {
  "anaconda-cloud": {},
  "kernelspec": {
   "display_name": "Python 3",
   "language": "python",
   "name": "python3"
  },
  "language_info": {
   "codemirror_mode": {
    "name": "ipython",
    "version": 3
   },
   "file_extension": ".py",
   "mimetype": "text/x-python",
   "name": "python",
   "nbconvert_exporter": "python",
   "pygments_lexer": "ipython3",
   "version": "3.5.1"
  }
 },
 "nbformat": 4,
 "nbformat_minor": 0
}
