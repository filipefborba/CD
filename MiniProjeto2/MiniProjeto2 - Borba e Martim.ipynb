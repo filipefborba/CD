{
 "cells": [
  {
   "cell_type": "markdown",
   "metadata": {},
   "source": [
    "___\n",
    "# <font color = \"red\">Mini Projeto 2 - Teorema do Limite Central</font>\n",
    "___\n",
    "\n",
    "**Filipe Borba e Martim José**"
   ]
  },
  {
   "cell_type": "code",
   "execution_count": 1,
   "metadata": {
    "collapsed": false
   },
   "outputs": [],
   "source": [
    "%matplotlib inline\n",
    "\n",
    "import os\n",
    "import matplotlib.pyplot as plt\n",
    "import pandas as pd\n",
    "import numpy as np\n",
    "from scipy import stats"
   ]
  },
  {
   "cell_type": "markdown",
   "metadata": {
    "collapsed": true
   },
   "source": [
    "___\n",
    "## <font color='blue'>1) Construindo os valores da população</font>\n",
    "\n",
    "Distribuição teórica utilizada: Normal\n",
    "\n",
    "Média = 4\n",
    "\n",
    "Desvio Padrão = 0.5"
   ]
  },
  {
   "cell_type": "code",
   "execution_count": 2,
   "metadata": {
    "collapsed": false
   },
   "outputs": [],
   "source": [
    "#Valores\n",
    "mu = 4\n",
    "dp = 0.5"
   ]
  },
  {
   "cell_type": "code",
   "execution_count": 3,
   "metadata": {
    "collapsed": false
   },
   "outputs": [
    {
     "name": "stdout",
     "output_type": "stream",
     "text": [
      "Média da Normal (μ): 3.99972693952\n",
      "Variância da Normal (σ²/Var): 0.250188231027\n"
     ]
    }
   ],
   "source": [
    "normal = stats.norm.rvs(loc=mu, scale=dp, size=1000000)\n",
    "\n",
    "print(\"Média da Normal (μ):\", np.mean(normal))\n",
    "print(\"Variância da Normal (σ²/Var):\", np.var(normal))"
   ]
  },
  {
   "cell_type": "code",
   "execution_count": 4,
   "metadata": {
    "collapsed": false
   },
   "outputs": [
    {
     "data": {
      "text/plain": [
       "[<matplotlib.lines.Line2D at 0x1b9f8c980f0>]"
      ]
     },
     "execution_count": 4,
     "metadata": {},
     "output_type": "execute_result"
    },
    {
     "data": {
      "image/png": "[encoded data removed]",
      "text/plain": [
       "<matplotlib.figure.Figure at 0x1b9f8adb7f0>"
      ]
     },
     "metadata": {},
     "output_type": "display_data"
    }
   ],
   "source": [
    "hist = plt.hist(normal, bins = np.arange(2,6,0.5), normed = 1, color=\"blue\")\n",
    "hist\n",
    "normalx = np.linspace(2, 6, len(normal))\n",
    "normaly = stats.norm.pdf(normalx, loc=mu, scale=dp)\n",
    "plt.plot(normalx,normaly,\"red\",lw=3)"
   ]
  },
  {
   "cell_type": "markdown",
   "metadata": {},
   "source": [
    "## <font color='blue'>2) Construindo a distribuição da média amostral</font>"
   ]
  },
  {
   "cell_type": "code",
   "execution_count": 6,
   "metadata": {
    "collapsed": false
   },
   "outputs": [
    {
     "name": "stdout",
     "output_type": "stream",
     "text": [
      "Média Amostral para n=2 (X̅): 3.99801160691\n"
     ]
    }
   ],
   "source": [
    "n = 2\n",
    "escolha = []\n",
    "for i in range(10000):\n",
    "    escolha.append(np.mean(np.random.choice(normal,size=n)))\n",
    "\n",
    "print(\"Média Amostral para n=2 (X̅):\", np.mean(escolha))"
   ]
  },
  {
   "cell_type": "code",
   "execution_count": 10,
   "metadata": {
    "collapsed": false
   },
   "outputs": [
    {
     "name": "stdout",
     "output_type": "stream",
     "text": [
      "Média Amostral para n=10000 (X̅): 3.99534743045\n",
      "Média da Média Amostral (μ): 3.99534743045\n",
      "Variância da Média Amostral (σ²/Var): 0.12510978571\n"
     ]
    },
    {
     "data": {
      "text/plain": [
       "(array([ 0.    ,  0.0052,  0.1556,  0.8616,  0.8262,  0.1466,  0.0048]),\n",
       " array([ 2. ,  2.5,  3. ,  3.5,  4. ,  4.5,  5. ,  5.5]),\n",
       " <a list of 7 Patch objects>)"
      ]
     },
     "execution_count": 10,
     "metadata": {},
     "output_type": "execute_result"
    },
    {
     "data": {
      "image/png": "[encoded data removed]",
      "text/plain": [
       "<matplotlib.figure.Figure at 0x1b9f8cb5b38>"
      ]
     },
     "metadata": {},
     "output_type": "display_data"
    }
   ],
   "source": [
    "n = 2\n",
    "escolha = []\n",
    "for i in range(10000):\n",
    "    escolha.append(np.mean(np.random.choice(normal,size=n)))\n",
    "\n",
    "print(\"Média Amostral para n=10000 (X̅):\", np.mean(escolha))\n",
    "print(\"Média da Média Amostral (μ):\", np.mean(escolha))\n",
    "print(\"Variância da Média Amostral (σ²/Var):\", np.var(escolha))\n",
    "\n",
    "histmediaamostral = plt.hist(escolha, bins = np.arange(2,6,0.5), normed = 1, color=\"blue\")\n",
    "histmediaamostral"
   ]
  },
  {
   "cell_type": "code",
   "execution_count": 9,
   "metadata": {
    "collapsed": false
   },
   "outputs": [
    {
     "name": "stdout",
     "output_type": "stream",
     "text": [
      "Média Amostral para n=4 (X̅): 4.00139448653\n",
      "Média da Média Amostral (μ): 4.00139448653\n",
      "Variância da Média Amostral (σ²/Var): 0.062268299489\n"
     ]
    },
    {
     "data": {
      "text/plain": [
       "(array([ 0.    ,  0.    ,  0.0434,  0.955 ,  0.9562,  0.0454,  0.    ]),\n",
       " array([ 2. ,  2.5,  3. ,  3.5,  4. ,  4.5,  5. ,  5.5]),\n",
       " <a list of 7 Patch objects>)"
      ]
     },
     "execution_count": 9,
     "metadata": {},
     "output_type": "execute_result"
    },
    {
     "data": {
      "image/png": "[encoded data removed]",
      "text/plain": [
       "<matplotlib.figure.Figure at 0x1b9f9705e80>"
      ]
     },
     "metadata": {},
     "output_type": "display_data"
    }
   ],
   "source": [
    "n = 4\n",
    "escolha = []\n",
    "for i in range(10000):\n",
    "    escolha.append(np.mean(np.random.choice(normal,size=n)))\n",
    "\n",
    "print(\"Média Amostral para n=4 (X̅):\", np.mean(escolha))\n",
    "print(\"Média da Média Amostral (μ):\", np.mean(escolha))\n",
    "print(\"Variância da Média Amostral (σ²/Var):\", np.var(escolha))\n",
    "\n",
    "histmediaamostral1 = plt.hist(escolha, bins = np.arange(2,6,0.5), normed = 1, color=\"blue\")\n",
    "histmediaamostral1"
   ]
  },
  {
   "cell_type": "code",
   "execution_count": 11,
   "metadata": {
    "collapsed": false
   },
   "outputs": [
    {
     "name": "stdout",
     "output_type": "stream",
     "text": [
      "Média Amostral para n=20 (X̅): 4.00003592388\n",
      "Média da Média Amostral (μ): 4.00003592388\n",
      "Variância da Média Amostral (σ²/Var): 0.0127007279077\n"
     ]
    },
    {
     "data": {
      "text/plain": [
       "(array([ 0.    ,  0.    ,  0.    ,  1.0026,  0.9974,  0.    ,  0.    ]),\n",
       " array([ 2. ,  2.5,  3. ,  3.5,  4. ,  4.5,  5. ,  5.5]),\n",
       " <a list of 7 Patch objects>)"
      ]
     },
     "execution_count": 11,
     "metadata": {},
     "output_type": "execute_result"
    },
    {
     "data": {
      "image/png": "[encoded data removed]",
      "text/plain": [
       "<matplotlib.figure.Figure at 0x1b9f983bfd0>"
      ]
     },
     "metadata": {},
     "output_type": "display_data"
    }
   ],
   "source": [
    "n = 20\n",
    "escolha = []\n",
    "for i in range(10000):\n",
    "    escolha.append(np.mean(np.random.choice(normal,size=n)))\n",
    "\n",
    "print(\"Média Amostral para n=20 (X̅):\", np.mean(escolha))\n",
    "print(\"Média da Média Amostral (μ):\", np.mean(escolha))\n",
    "print(\"Variância da Média Amostral (σ²/Var):\", np.var(escolha))\n",
    "\n",
    "histmediaamostral2 = plt.hist(escolha, bins = np.arange(2,6,0.5), normed = 1, color=\"blue\")\n",
    "histmediaamostral2"
   ]
  },
  {
   "cell_type": "code",
   "execution_count": 16,
   "metadata": {
    "collapsed": false
   },
   "outputs": [
    {
     "name": "stdout",
     "output_type": "stream",
     "text": [
      "Média Amostral para n=50 (X̅): 3.99898444253\n",
      "Média da Média Amostral (μ): 3.99898444253\n",
      "Variância da Média Amostral (σ²/Var): 0.00504846105344\n"
     ]
    },
    {
     "data": {
      "text/plain": [
       "(array([ 0.    ,  0.    ,  0.    ,  1.0158,  0.9842,  0.    ,  0.    ]),\n",
       " array([ 2. ,  2.5,  3. ,  3.5,  4. ,  4.5,  5. ,  5.5]),\n",
       " <a list of 7 Patch objects>)"
      ]
     },
     "execution_count": 16,
     "metadata": {},
     "output_type": "execute_result"
    },
    {
     "data": {
      "image/png": "[encoded data removed]",
      "text/plain": [
       "<matplotlib.figure.Figure at 0x1b9fcff2908>"
      ]
     },
     "metadata": {},
     "output_type": "display_data"
    }
   ],
   "source": [
    "n = 50\n",
    "escolha = []\n",
    "for i in range(10000):\n",
    "    escolha.append(np.mean(np.random.choice(normal,size=n)))\n",
    "\n",
    "print(\"Média Amostral para n=50 (X̅):\", np.mean(escolha))\n",
    "print(\"Média da Média Amostral (μ):\", np.mean(escolha))\n",
    "print(\"Variância da Média Amostral (σ²/Var):\", np.var(escolha))\n",
    "\n",
    "histmediaamostral3 = plt.hist(escolha, bins = np.arange(2,6,0.5), normed = 1, color=\"blue\")\n",
    "histmediaamostral3"
   ]
  },
  {
   "cell_type": "markdown",
   "metadata": {},
   "source": [
    "<font color=\"blue\">Observando os histogramas acima, conforme aumentamos o n (número de amostras), a Média Amostral (X̅) se aproxima da Média Real (μ).  \n",
    "Uma variável aleatória pode ter uma distribuição qualquer (normal, poisson, logarítmica, entre outras), possuindo uma Média Real (μ) e um Desvio Padrão (σ). O Teorema do Limite Central demonstra que, se, ao invés de tirarmos uma única amostra (digamos, 100\n",
    "coletas), tirarmos várias amostras de tamanho \"n\" (digamos, 20 amostras compostas por cinco coletas: 20x5=100 coletas) e analisarmos a distribuição das médias de cada amostra de tamanho \"n\", observaremos que:\n",
    "– À medida que o tamanho ´n´ da amostra aumenta, a distribuição das\n",
    "médias amostrais tende a uma distribuição normal\n",
    "– A média das médias amostrais será a média populacional\n",
    "– Quando maior o tamanho das amostras, a distribuição das\n",
    "médias será mais próxima de uma distribuição normal.\n",
    "– Para n>30, a distribuição das médias amostrais pode ser\n",
    "aproximada satisfatoriamente por uma distribuição normal.\n",
    "– Se a distribuição da variável ‘x’ for originalmente uma\n",
    "distribuição normal, então a distribuição das médias\n",
    "amostrais terá distribuição normal para qualquer tamanho\n",
    "amostral \"n\"</font>"
   ]
  },
  {
   "cell_type": "code",
   "execution_count": 21,
   "metadata": {
    "collapsed": false
   },
   "outputs": [
    {
     "data": {
      "text/plain": [
       "(array([ 0.00320384,  0.04144974,  0.27192631,  0.69503404,  0.67601121,\n",
       "         0.27192631,  0.04044854]),\n",
       " array([ 2. ,  2.5,  3. ,  3.5,  4. ,  4.5,  5. ,  5.5]),\n",
       " <a list of 7 Patch objects>)"
      ]
     },
     "execution_count": 21,
     "metadata": {},
     "output_type": "execute_result"
    },
    {
     "data": {
      "image/png": "[encoded data removed]",
      "text/plain": [
       "<matplotlib.figure.Figure at 0x1b9fd27d320>"
      ]
     },
     "metadata": {},
     "output_type": "display_data"
    }
   ],
   "source": [
    "n = 50\n",
    "escolha = []\n",
    "escolha1 = []\n",
    "escolha9 = []\n",
    "for i in range(10000):\n",
    "    escolha.append(np.random.choice(normal,size=n))\n",
    "    escolha1.append(escolha[i][0])\n",
    "    escolha9.append(escolha[i][8])\n",
    "\n",
    "histmediaamostral4 = plt.hist(escolha1, bins = np.arange(2,6,0.5), normed = 1, color=\"blue\")\n",
    "plt.axis([2,5.5,0,0.7])\n",
    "histmediaamostral4"
   ]
  },
  {
   "cell_type": "code",
   "execution_count": 20,
   "metadata": {
    "collapsed": false
   },
   "outputs": [
    {
     "data": {
      "text/plain": [
       "(array([ 0.00400481,  0.04405286,  0.27152583,  0.69203044,  0.68502203,\n",
       "         0.25951141,  0.04385262]),\n",
       " array([ 2. ,  2.5,  3. ,  3.5,  4. ,  4.5,  5. ,  5.5]),\n",
       " <a list of 7 Patch objects>)"
      ]
     },
     "execution_count": 20,
     "metadata": {},
     "output_type": "execute_result"
    },
    {
     "data": {
      "image/png": "[encoded data removed]",
      "text/plain": [
       "<matplotlib.figure.Figure at 0x1b9fcff2390>"
      ]
     },
     "metadata": {},
     "output_type": "display_data"
    }
   ],
   "source": [
    "histmediaamostral5 = plt.hist(escolha9, bins = np.arange(2,6,0.5), normed = 1, color=\"blue\")\n",
    "histmediaamostral5"
   ]
  },
  {
   "cell_type": "markdown",
   "metadata": {},
   "source": [
    "ITEM IV _ PREENCHER"
   ]
  },
  {
   "cell_type": "code",
   "execution_count": 30,
   "metadata": {
    "collapsed": false
   },
   "outputs": [
    {
     "name": "stdout",
     "output_type": "stream",
     "text": [
      "Correlação entre X1 e X9: 0.00119665217473\n"
     ]
    }
   ],
   "source": [
    "print(\"Correlação entre X1 e X9:\", np.corrcoef(escolha1,escolha9)[0,1])"
   ]
  },
  {
   "cell_type": "markdown",
   "metadata": {},
   "source": [
    "<font color=\"blue\">Dado que a correlação é próxima de 0, os eventos são independentes.</font>"
   ]
  }
 ],
 "metadata": {
  "anaconda-cloud": {},
  "kernelspec": {
   "display_name": "Python 3",
   "language": "python",
   "name": "python3"
  },
  "language_info": {
   "codemirror_mode": {
    "name": "ipython",
    "version": 3
   },
   "file_extension": ".py",
   "mimetype": "text/x-python",
   "name": "python",
   "nbconvert_exporter": "python",
   "pygments_lexer": "ipython3",
   "version": "3.5.1"
  }
 },
 "nbformat": 4,
 "nbformat_minor": 0
}
